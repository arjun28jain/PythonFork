{
 "cells": [
  {
   "cell_type": "markdown",
   "id": "58a61349",
   "metadata": {},
   "source": [
    "# PROBLEM"
   ]
  },
  {
   "cell_type": "code",
   "execution_count": 1,
   "id": "3dd1ffab",
   "metadata": {},
   "outputs": [
    {
     "ename": "SyntaxError",
     "evalue": "invalid syntax (338434634.py, line 1)",
     "output_type": "error",
     "traceback": [
      "\u001b[1;36m  Input \u001b[1;32mIn [1]\u001b[1;36m\u001b[0m\n\u001b[1;33m    Given an integer N, print all the prime numbers that lie in the range 2 to N (both inclusive).\u001b[0m\n\u001b[1;37m          ^\u001b[0m\n\u001b[1;31mSyntaxError\u001b[0m\u001b[1;31m:\u001b[0m invalid syntax\n"
     ]
    }
   ],
   "source": [
    "Given an integer N, print all the prime numbers that lie in the range 2 to N (both inclusive).\n",
    "Print the prime numbers in different lines.\n",
    "Input Format :\n",
    "Integer N\n",
    "Output Format :\n",
    "Prime numbers in different lines\n",
    "Constraints :\n",
    "1 <= N <= 100\n",
    "Sample Input 1:\n",
    "9\n",
    "Sample Output 1:\n",
    "2\n",
    "3\n",
    "5\n",
    "7\n",
    "Sample Input 2:\n",
    "20\n",
    "Sample Output 2:\n",
    "2\n",
    "3\n",
    "5\n",
    "7\n",
    "11\n",
    "13\n",
    "17\n",
    "19"
   ]
  },
  {
   "cell_type": "markdown",
   "id": "436df2ea",
   "metadata": {},
   "source": [
    "# SOLUTION"
   ]
  },
  {
   "cell_type": "code",
   "execution_count": 7,
   "id": "3b806730",
   "metadata": {},
   "outputs": [
    {
     "name": "stdout",
     "output_type": "stream",
     "text": [
      "25\n",
      "2\n",
      "3\n",
      "5\n",
      "7\n",
      "11\n",
      "13\n",
      "17\n",
      "19\n",
      "23\n"
     ]
    }
   ],
   "source": [
    " \n",
    "b = int(input(\"\"))  \n",
    "if (n>=1 and n<=100):\n",
    "# Include b in the range by adding 1\n",
    "    for num in range(2, b + 1):\n",
    "\n",
    "    # Prime numbers are greater than 1\n",
    "        if num > 1:\n",
    "\n",
    "            for i in range(2, num):\n",
    "\n",
    "            # If the number is divisible, it is not prime\n",
    "                if num % i == 0:\n",
    "                # Check if the number is equal to the number itself\n",
    "                    if num != i:\n",
    "                        break\n",
    "        \n",
    "            else:\n",
    "            # If the loop was not broken, the number isn't divisible\n",
    "            # by other numbers except itself and 1, so it's prime\n",
    "                print(num)\n",
    "else:\n",
    "    quit()\n"
   ]
  },
  {
   "cell_type": "code",
   "execution_count": null,
   "id": "0cec1da4",
   "metadata": {},
   "outputs": [],
   "source": []
  }
 ],
 "metadata": {
  "kernelspec": {
   "display_name": "Python 3 (ipykernel)",
   "language": "python",
   "name": "python3"
  },
  "language_info": {
   "codemirror_mode": {
    "name": "ipython",
    "version": 3
   },
   "file_extension": ".py",
   "mimetype": "text/x-python",
   "name": "python",
   "nbconvert_exporter": "python",
   "pygments_lexer": "ipython3",
   "version": "3.9.12"
  }
 },
 "nbformat": 4,
 "nbformat_minor": 5
}
