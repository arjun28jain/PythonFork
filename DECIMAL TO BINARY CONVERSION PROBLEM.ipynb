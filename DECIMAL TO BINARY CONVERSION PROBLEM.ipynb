{
 "cells": [
  {
   "attachments": {},
   "cell_type": "markdown",
   "id": "400cd68c",
   "metadata": {},
   "source": [
    "# PROBLEM"
   ]
  },
  {
   "cell_type": "code",
   "execution_count": null,
   "id": "9b5ec432",
   "metadata": {},
   "outputs": [],
   "source": [
    "Given a decimal number (integer N), convert it into binary and print.\n",
    "Note: The given input number could be large, so the corresponding binary number can exceed the integer range. So you may want to take the answer as long for CPP and Java.\n",
    "Note for C++ coders: Do not use the inbuilt implementation of \"pow\" function. The implementation of that function is done for 'double's and it may fail when used for 'int's, 'long's, or 'long long's. Implement your own \"pow\" function to work for non-float data types.\n",
    "\n",
    "\n",
    "Input format :\n",
    "Integer N\n",
    "Output format :\n",
    "Corresponding Binary number (long)\n",
    "Constraints :\n",
    "0 <= N <= 10^5\n",
    "Sample Input 1 :\n",
    "12\n",
    "Sample Output 1 :\n",
    "1100\n",
    "Sample Input 2 :\n",
    "7\n",
    "Sample Output 2 :\n",
    "111"
   ]
  },
  {
   "attachments": {},
   "cell_type": "markdown",
   "id": "cb58f127",
   "metadata": {},
   "source": [
    "# SOLUTION"
   ]
  },
  {
   "cell_type": "code",
   "execution_count": null,
   "id": "cea664eb",
   "metadata": {},
   "outputs": [],
   "source": [
    "#decimal to binary\n",
    "\n",
    "n=int(input())\n",
    "L=[]\n",
    "if n>0 and (n<=10**5):\n",
    "    while (n>=1):\n",
    "        x=n%2\n",
    "        n=n//2\n",
    "        L.append(x)\n",
    "    i=len(L)-1\n",
    "    while (i>=0):\n",
    "        print(L[i])\n",
    "        i=i-1\n",
    "elif (n==0):\n",
    "    print(0)\n",
    "else:\n",
    "    quit()\n"
   ]
  }
 ],
 "metadata": {
  "kernelspec": {
   "display_name": "Python 3 (ipykernel)",
   "language": "python",
   "name": "python3"
  },
  "language_info": {
   "codemirror_mode": {
    "name": "ipython",
    "version": 3
   },
   "file_extension": ".py",
   "mimetype": "text/x-python",
   "name": "python",
   "nbconvert_exporter": "python",
   "pygments_lexer": "ipython3",
   "version": "3.9.12"
  }
 },
 "nbformat": 4,
 "nbformat_minor": 5
}
