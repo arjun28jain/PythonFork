{
 "cells": [
  {
   "cell_type": "markdown",
   "id": "ef85db10",
   "metadata": {},
   "source": [
    "\n",
    "# PROBLEM"
   ]
  },
  {
   "cell_type": "code",
   "execution_count": 1,
   "id": "796f353c",
   "metadata": {},
   "outputs": [
    {
     "ename": "SyntaxError",
     "evalue": "invalid syntax (651762641.py, line 1)",
     "output_type": "error",
     "traceback": [
      "\u001b[1;36m  Input \u001b[1;32mIn [1]\u001b[1;36m\u001b[0m\n\u001b[1;33m    Find and return number of trailing 0s in n factorial without calculating n factorial.\u001b[0m\n\u001b[1;37m             ^\u001b[0m\n\u001b[1;31mSyntaxError\u001b[0m\u001b[1;31m:\u001b[0m invalid syntax\n"
     ]
    }
   ],
   "source": [
    "Find and return number of trailing 0s in n factorial without calculating n factorial.\n",
    "Sample Input\n",
    "50\n",
    "Sample Output\n",
    "12\n",
    "Input Size Limit\n",
    "n < 10^11"
   ]
  },
  {
   "cell_type": "markdown",
   "id": "826eab73",
   "metadata": {},
   "source": [
    "# SOLUTION\n"
   ]
  },
  {
   "cell_type": "code",
   "execution_count": null,
   "id": "d05a5b4a",
   "metadata": {},
   "outputs": [],
   "source": [
    "n=int(input())\n",
    "sum=0\n",
    "y=n\n",
    "x=1\n",
    "\n",
    "\n",
    "while ((n/(5**x))>1):\n",
    "    rem=int(n/(5**x))\n",
    "    sum=sum+rem\n",
    "    x=x+1\n",
    "print(sum)\n"
   ]
  },
  {
   "cell_type": "markdown",
   "id": "3f90cb9f",
   "metadata": {},
   "source": []
  }
 ],
 "metadata": {
  "kernelspec": {
   "display_name": "Python 3 (ipykernel)",
   "language": "python",
   "name": "python3"
  },
  "language_info": {
   "codemirror_mode": {
    "name": "ipython",
    "version": 3
   },
   "file_extension": ".py",
   "mimetype": "text/x-python",
   "name": "python",
   "nbconvert_exporter": "python",
   "pygments_lexer": "ipython3",
   "version": "3.9.12"
  }
 },
 "nbformat": 4,
 "nbformat_minor": 5
}
