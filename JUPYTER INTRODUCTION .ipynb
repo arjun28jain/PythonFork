{
 "cells": [
  {
   "cell_type": "markdown",
   "id": "348d02ef",
   "metadata": {},
   "source": [
    "# CODING NINJAS"
   ]
  },
  {
   "cell_type": "markdown",
   "id": "005a8311",
   "metadata": {},
   "source": [
    "## INTRO TO JUPYTER NOTEBOOK\n"
   ]
  },
  {
   "cell_type": "code",
   "execution_count": 1,
   "id": "de8f319c",
   "metadata": {},
   "outputs": [],
   "source": [
    "A=10\n",
    "\n"
   ]
  },
  {
   "cell_type": "code",
   "execution_count": 2,
   "id": "d77364f2",
   "metadata": {},
   "outputs": [
    {
     "data": {
      "text/plain": [
       "10"
      ]
     },
     "execution_count": 2,
     "metadata": {},
     "output_type": "execute_result"
    }
   ],
   "source": [
    "A"
   ]
  },
  {
   "cell_type": "code",
   "execution_count": 5,
   "id": "d5cfe3eb",
   "metadata": {},
   "outputs": [
    {
     "data": {
      "text/plain": [
       "97"
      ]
     },
     "execution_count": 5,
     "metadata": {},
     "output_type": "execute_result"
    }
   ],
   "source": [
    "ord(\"a\")"
   ]
  },
  {
   "cell_type": "code",
   "execution_count": 9,
   "id": "c3d4d0a0",
   "metadata": {},
   "outputs": [
    {
     "data": {
      "text/plain": [
       "'0'"
      ]
     },
     "execution_count": 9,
     "metadata": {},
     "output_type": "execute_result"
    }
   ],
   "source": [
    "chr(48)"
   ]
  },
  {
   "cell_type": "code",
   "execution_count": null,
   "id": "c3d862cc",
   "metadata": {},
   "outputs": [],
   "source": []
  },
  {
   "cell_type": "code",
   "execution_count": 12,
   "id": "a04fcba1",
   "metadata": {},
   "outputs": [
    {
     "data": {
      "text/plain": [
       "'a'"
      ]
     },
     "execution_count": 12,
     "metadata": {},
     "output_type": "execute_result"
    }
   ],
   "source": [
    "s=\"atishay\"\n",
    "s[5]"
   ]
  },
  {
   "cell_type": "code",
   "execution_count": 13,
   "id": "ec6d8dfb",
   "metadata": {},
   "outputs": [
    {
     "data": {
      "text/plain": [
       "'y'"
      ]
     },
     "execution_count": 13,
     "metadata": {},
     "output_type": "execute_result"
    }
   ],
   "source": [
    "s[-1]"
   ]
  },
  {
   "cell_type": "code",
   "execution_count": 15,
   "id": "497cca7c",
   "metadata": {},
   "outputs": [
    {
     "data": {
      "text/plain": [
       "'ATISHAY'"
      ]
     },
     "execution_count": 15,
     "metadata": {},
     "output_type": "execute_result"
    }
   ],
   "source": [
    "S=\"atishay\"\n",
    "s.upper()"
   ]
  },
  {
   "cell_type": "code",
   "execution_count": 16,
   "id": "b452eefa",
   "metadata": {},
   "outputs": [
    {
     "name": "stdout",
     "output_type": "stream",
     "text": [
      "2020509751216\n"
     ]
    }
   ],
   "source": [
    "print(id(s))"
   ]
  },
  {
   "cell_type": "code",
   "execution_count": 17,
   "id": "3d8b4a17",
   "metadata": {},
   "outputs": [
    {
     "name": "stdout",
     "output_type": "stream",
     "text": [
      "2020509751216\n"
     ]
    }
   ],
   "source": [
    "y=\"atishay\"\n",
    "print(id(y))"
   ]
  },
  {
   "cell_type": "code",
   "execution_count": 21,
   "id": "4a7e4b72",
   "metadata": {},
   "outputs": [
    {
     "data": {
      "text/plain": [
       "'y'"
      ]
     },
     "execution_count": 21,
     "metadata": {},
     "output_type": "execute_result"
    }
   ],
   "source": [
    "y[-1:]"
   ]
  },
  {
   "cell_type": "code",
   "execution_count": 22,
   "id": "d5ed7cb3",
   "metadata": {},
   "outputs": [
    {
     "data": {
      "text/plain": [
       "['MY', 'NAME', 'IS', 'PARIKH']"
      ]
     },
     "execution_count": 22,
     "metadata": {},
     "output_type": "execute_result"
    }
   ],
   "source": [
    "A=\"MY NAME IS PARIKH\"\n",
    "A.split()"
   ]
  },
  {
   "cell_type": "code",
   "execution_count": 27,
   "id": "1e60ac81",
   "metadata": {},
   "outputs": [
    {
     "data": {
      "text/plain": [
       "['MY NAME IS PARIKH']"
      ]
     },
     "execution_count": 27,
     "metadata": {},
     "output_type": "execute_result"
    }
   ],
   "source": [
    "A.split(\",\")"
   ]
  },
  {
   "cell_type": "code",
   "execution_count": 32,
   "id": "6e4bb5ce",
   "metadata": {},
   "outputs": [
    {
     "data": {
      "text/plain": [
       "'YAHSITA'"
      ]
     },
     "execution_count": 32,
     "metadata": {},
     "output_type": "execute_result"
    }
   ],
   "source": [
    "S=\"ATISHAY\"\n",
    "\n",
    "S[::-1]"
   ]
  },
  {
   "cell_type": "code",
   "execution_count": 33,
   "id": "c71d3684",
   "metadata": {},
   "outputs": [
    {
     "name": "stdout",
     "output_type": "stream",
     "text": [
      "gh\n"
     ]
    }
   ],
   "source": [
    "s = \"abcdefghi\"\n",
    "print(s[-3:-1])"
   ]
  },
  {
   "cell_type": "code",
   "execution_count": 34,
   "id": "c59fe5a4",
   "metadata": {},
   "outputs": [
    {
     "data": {
      "text/plain": [
       "2"
      ]
     },
     "execution_count": 34,
     "metadata": {},
     "output_type": "execute_result"
    }
   ],
   "source": [
    "b=10,9\n",
    "x=len(b)\n",
    "x"
   ]
  },
  {
   "cell_type": "code",
   "execution_count": null,
   "id": "8b82bb8d",
   "metadata": {},
   "outputs": [],
   "source": [
    "`"
   ]
  }
 ],
 "metadata": {
  "kernelspec": {
   "display_name": "Python 3 (ipykernel)",
   "language": "python",
   "name": "python3"
  },
  "language_info": {
   "codemirror_mode": {
    "name": "ipython",
    "version": 3
   },
   "file_extension": ".py",
   "mimetype": "text/x-python",
   "name": "python",
   "nbconvert_exporter": "python",
   "pygments_lexer": "ipython3",
   "version": "3.9.12"
  }
 },
 "nbformat": 4,
 "nbformat_minor": 5
}
