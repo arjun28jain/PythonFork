{
 "cells": [
  {
   "cell_type": "markdown",
   "id": "55b8ba42",
   "metadata": {},
   "source": [
    "# 1D lists"
   ]
  },
  {
   "cell_type": "code",
   "execution_count": 1,
   "id": "c8271a23",
   "metadata": {},
   "outputs": [
    {
     "name": "stdout",
     "output_type": "stream",
     "text": [
      "Enter number of elements in list5\n",
      "Enter list element94\n",
      "Enter list element95\n",
      "Enter list element96\n",
      "Enter list element97\n",
      "Enter list element98\n",
      "The final list is [94, 95, 96, 97, 98]\n"
     ]
    }
   ],
   "source": [
    "n=int(input(\"Enter number of elements in list\"))\n",
    "L=[]\n",
    "for i in range(n):\n",
    "    x=int(input(\"Enter list element\"))\n",
    "    L.append(x)\n",
    "\n",
    "print(\"The final list is\", L)"
   ]
  },
  {
   "cell_type": "markdown",
   "id": "490b1e92",
   "metadata": {},
   "source": [
    "## 2D Lists"
   ]
  },
  {
   "cell_type": "code",
   "execution_count": 18,
   "id": "fbf08e3b",
   "metadata": {},
   "outputs": [
    {
     "name": "stdout",
     "output_type": "stream",
     "text": [
      "Enter number of rows3\n",
      "Enter number of columns3\n",
      "Enter value1\n",
      "Enter value2\n",
      "Enter value3\n",
      "Enter value4\n",
      "Enter value5\n",
      "Enter value6\n",
      "Enter value7\n",
      "Enter value8\n",
      "Enter value9\n"
     ]
    },
    {
     "data": {
      "text/plain": [
       "[[1, 2, 3], [4, 5, 6], [7, 8, 9]]"
      ]
     },
     "execution_count": 18,
     "metadata": {},
     "output_type": "execute_result"
    }
   ],
   "source": [
    "x=int(input(\"Enter number of rows\"))\n",
    "y=int(input(\"Enter number of columns\"))\n",
    "L=[]\n",
    "for i in range(x):\n",
    "    L.append([])\n",
    "    for j in range(y):\n",
    "        x=int(input(\"Enter value\"))\n",
    "        L[i].append(x)\n",
    "L\n",
    "\n",
    "\n",
    "\n",
    "'''\n",
    "WHAT WE ARE DOING HERE IS WE ARE TAKING THE INPUT OF ROWS AND COLUMNS FOR THE USER \n",
    "LET ROW =3, COLUMNS =3 \n",
    "THEN TOTAL ELEMENTS=9 \n",
    "WE ARE APPENDING A EMPTY LIST AT EVERY VALUE OF I AND APPENDING ENTERED VALUE TO EVERY VALUE OF J \n",
    "IT IS GIVING US A TWO DIMENSION LIST\n",
    "'''"
   ]
  },
  {
   "cell_type": "markdown",
   "id": "641a0f3c",
   "metadata": {},
   "source": [
    "# WAVE PRINT PROBLEM"
   ]
  },
  {
   "cell_type": "code",
   "execution_count": 29,
   "id": "d6944638",
   "metadata": {},
   "outputs": [
    {
     "name": "stdout",
     "output_type": "stream",
     "text": [
      "Enter number of rows3\n",
      "Enter number of columns3\n",
      "Enter value1\n",
      "Enter value2\n",
      "Enter value3\n",
      "Enter value4\n",
      "Enter value5\n",
      "Enter value6\n",
      "Enter value7\n",
      "Enter value8\n",
      "Enter value9\n",
      "The entered 2d list is [[1, 2, 3], [4, 5, 6], [7, 8, 9]]\n",
      "1 4 7 "
     ]
    },
    {
     "ename": "IndexError",
     "evalue": "list index out of range",
     "output_type": "error",
     "traceback": [
      "\u001b[1;31m---------------------------------------------------------------------------\u001b[0m",
      "\u001b[1;31mIndexError\u001b[0m                                Traceback (most recent call last)",
      "Input \u001b[1;32mIn [29]\u001b[0m, in \u001b[0;36m<cell line: 15>\u001b[1;34m()\u001b[0m\n\u001b[0;32m     16\u001b[0m \u001b[38;5;28;01mif\u001b[39;00m (j\u001b[38;5;241m%\u001b[39m\u001b[38;5;241m2\u001b[39m\u001b[38;5;241m==\u001b[39m\u001b[38;5;241m0\u001b[39m):\n\u001b[0;32m     17\u001b[0m     \u001b[38;5;28;01mfor\u001b[39;00m i \u001b[38;5;129;01min\u001b[39;00m \u001b[38;5;28mrange\u001b[39m(x):\u001b[38;5;66;03m# x=0,1,2\u001b[39;00m\n\u001b[1;32m---> 18\u001b[0m         \u001b[38;5;28mprint\u001b[39m(\u001b[43mL\u001b[49m\u001b[43m[\u001b[49m\u001b[43mi\u001b[49m\u001b[43m]\u001b[49m[j], end\u001b[38;5;241m=\u001b[39m\u001b[38;5;124m\"\u001b[39m\u001b[38;5;124m \u001b[39m\u001b[38;5;124m\"\u001b[39m)\n\u001b[0;32m     19\u001b[0m \u001b[38;5;28;01melse\u001b[39;00m:\n\u001b[0;32m     20\u001b[0m     \u001b[38;5;28;01mfor\u001b[39;00m i \u001b[38;5;129;01min\u001b[39;00m \u001b[38;5;28mrange\u001b[39m(n\u001b[38;5;241m-\u001b[39m\u001b[38;5;241m1\u001b[39m,\u001b[38;5;241m-\u001b[39m\u001b[38;5;241m1\u001b[39m,\u001b[38;5;241m-\u001b[39m\u001b[38;5;241m1\u001b[39m):\n",
      "\u001b[1;31mIndexError\u001b[0m: list index out of range"
     ]
    }
   ],
   "source": [
    "'''\n",
    "Input is [[1, 2, 3], [4, 5, 6], [7, 8, 9]],output has to be [1 4 7 8 5 2 3 6 9]\n",
    "\n",
    "'''\n",
    "'''x=int(input(\"Enter number of rows\"))\n",
    "y=int(input(\"Enter number of columns\"))\n",
    "L=[]\n",
    "for i in range(x):\n",
    "    L.append([])\n",
    "    for j in range(y):\n",
    "        x=int(input(\"Enter value\"))\n",
    "        L[i].append(x)\n",
    "print(\"The entered 2d list is\",L)\n",
    "\n",
    "for j in range(y):#y=0,1,2\n",
    "    if (j%2==0):\n",
    "        for i in range(x):# x=0,1,2\n",
    "            print(L[i][j], end=\" \")\n",
    "    else:\n",
    "        for i in range(n-1,-1,-1):\n",
    "            print(L[i][j], end=\" \")\n",
    "            \n",
    "'''\n",
    "\n",
    "\n"
   ]
  },
  {
   "cell_type": "code",
   "execution_count": null,
   "id": "3d40b634",
   "metadata": {},
   "outputs": [],
   "source": []
  }
 ],
 "metadata": {
  "kernelspec": {
   "display_name": "Python 3 (ipykernel)",
   "language": "python",
   "name": "python3"
  },
  "language_info": {
   "codemirror_mode": {
    "name": "ipython",
    "version": 3
   },
   "file_extension": ".py",
   "mimetype": "text/x-python",
   "name": "python",
   "nbconvert_exporter": "python",
   "pygments_lexer": "ipython3",
   "version": "3.9.12"
  }
 },
 "nbformat": 4,
 "nbformat_minor": 5
}
