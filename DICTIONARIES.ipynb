{
 "cells": [
  {
   "cell_type": "code",
   "execution_count": 2,
   "id": "c4be3b1c",
   "metadata": {},
   "outputs": [],
   "source": [
    "#Dictionaries consists of key value pairs\n",
    "#Keys are not fixed in dictionaries like index in list\n",
    "#Dictionaries are created usnig curly brackets"
   ]
  },
  {
   "cell_type": "code",
   "execution_count": 7,
   "id": "eecba833",
   "metadata": {},
   "outputs": [],
   "source": [
    "a={\"Engineering\":7}"
   ]
  },
  {
   "cell_type": "code",
   "execution_count": 8,
   "id": "81673673",
   "metadata": {},
   "outputs": [
    {
     "data": {
      "text/plain": [
       "dict"
      ]
     },
     "execution_count": 8,
     "metadata": {},
     "output_type": "execute_result"
    }
   ],
   "source": [
    "type(a)"
   ]
  },
  {
   "cell_type": "code",
   "execution_count": 9,
   "id": "56ef636d",
   "metadata": {},
   "outputs": [
    {
     "data": {
      "text/plain": [
       "7"
      ]
     },
     "execution_count": 9,
     "metadata": {},
     "output_type": "execute_result"
    }
   ],
   "source": [
    "a[\"Engineering\"]"
   ]
  },
  {
   "cell_type": "code",
   "execution_count": 10,
   "id": "d06fbf73",
   "metadata": {},
   "outputs": [
    {
     "ename": "NameError",
     "evalue": "name 'Key' is not defined",
     "output_type": "error",
     "traceback": [
      "\u001b[1;31m---------------------------------------------------------------------------\u001b[0m",
      "\u001b[1;31mNameError\u001b[0m                                 Traceback (most recent call last)",
      "Input \u001b[1;32mIn [10]\u001b[0m, in \u001b[0;36m<cell line: 2>\u001b[1;34m()\u001b[0m\n\u001b[0;32m      1\u001b[0m \u001b[38;5;66;03m#Syntax for dictionary is\u001b[39;00m\n\u001b[1;32m----> 2\u001b[0m a\u001b[38;5;241m=\u001b[39m{\u001b[43mKey\u001b[49m:Value}\n",
      "\u001b[1;31mNameError\u001b[0m: name 'Key' is not defined"
     ]
    }
   ],
   "source": [
    "#Syntax for dictionary is\n",
    "a={Key:Value}\n",
    "#The key can be integer as well along with string,the value can also be a string along with integer"
   ]
  },
  {
   "cell_type": "code",
   "execution_count": 11,
   "id": "dddb4b77",
   "metadata": {},
   "outputs": [],
   "source": [
    "a={\"the\":1, \"a\":5, 1000:\"abc\"}"
   ]
  },
  {
   "cell_type": "code",
   "execution_count": 12,
   "id": "d0c12cca",
   "metadata": {},
   "outputs": [
    {
     "name": "stdout",
     "output_type": "stream",
     "text": [
      "{'the': 1, 'a': 5, 1000: 'abc'}\n"
     ]
    }
   ],
   "source": [
    "print(a)"
   ]
  },
  {
   "cell_type": "code",
   "execution_count": 13,
   "id": "4e64748a",
   "metadata": {},
   "outputs": [],
   "source": [
    "#In simpler terms dictionary is adding random values at random locations\n",
    "#Like in lists the indexes work as key and they are fixed where as in dictionaries the keys are not fixed, they are entered by the user"
   ]
  },
  {
   "cell_type": "code",
   "execution_count": 14,
   "id": "b4e749b0",
   "metadata": {},
   "outputs": [
    {
     "data": {
      "text/plain": [
       "3"
      ]
     },
     "execution_count": 14,
     "metadata": {},
     "output_type": "execute_result"
    }
   ],
   "source": [
    "len(a)"
   ]
  },
  {
   "cell_type": "code",
   "execution_count": 19,
   "id": "96e7d1cd",
   "metadata": {},
   "outputs": [],
   "source": [
    "a[\"the\"]=97"
   ]
  },
  {
   "cell_type": "code",
   "execution_count": 20,
   "id": "875b7ed3",
   "metadata": {},
   "outputs": [
    {
     "name": "stdout",
     "output_type": "stream",
     "text": [
      "{'the': 97, 'a': 5, 1000: 'abc'}\n"
     ]
    }
   ],
   "source": [
    "print(a)"
   ]
  },
  {
   "cell_type": "code",
   "execution_count": 21,
   "id": "6e16a430",
   "metadata": {},
   "outputs": [],
   "source": [
    "#Hence dictionaries are mutable"
   ]
  },
  {
   "cell_type": "code",
   "execution_count": 22,
   "id": "1509e453",
   "metadata": {},
   "outputs": [],
   "source": [
    "#Dictionary can also be created using dict function"
   ]
  },
  {
   "cell_type": "code",
   "execution_count": 41,
   "id": "8874afcf",
   "metadata": {},
   "outputs": [],
   "source": [
    "#Example\n",
    "\n",
    "india=dict([(\"Delhi\",\"AAP\"), (\"Maharashtra\",\"BJP\"), (\"Rajasthan\",\"Congress\"),(\"Madhya Pradesh\", \"BJP\")])"
   ]
  },
  {
   "cell_type": "code",
   "execution_count": 27,
   "id": "e0cb7a25",
   "metadata": {},
   "outputs": [
    {
     "data": {
      "text/plain": [
       "'AAP'"
      ]
     },
     "execution_count": 27,
     "metadata": {},
     "output_type": "execute_result"
    }
   ],
   "source": [
    "india[\"Delhi\"]"
   ]
  },
  {
   "cell_type": "code",
   "execution_count": 31,
   "id": "e452a3ff",
   "metadata": {},
   "outputs": [
    {
     "data": {
      "text/plain": [
       "'BJP'"
      ]
     },
     "execution_count": 31,
     "metadata": {},
     "output_type": "execute_result"
    }
   ],
   "source": [
    "india.get(\"Maharashtra\")"
   ]
  },
  {
   "cell_type": "code",
   "execution_count": 34,
   "id": "c357a0ac",
   "metadata": {},
   "outputs": [
    {
     "name": "stdout",
     "output_type": "stream",
     "text": [
      "None\n"
     ]
    }
   ],
   "source": [
    "print(india.get(\"Coding\"))"
   ]
  },
  {
   "cell_type": "code",
   "execution_count": 35,
   "id": "74329594",
   "metadata": {},
   "outputs": [],
   "source": [
    "#If the key is present it will return the value \n",
    "#else it will return none"
   ]
  },
  {
   "cell_type": "code",
   "execution_count": 37,
   "id": "b1377d87",
   "metadata": {},
   "outputs": [
    {
     "data": {
      "text/plain": [
       "dict_keys(['Delhi', 'Maharashtra', 'Rajasthan'])"
      ]
     },
     "execution_count": 37,
     "metadata": {},
     "output_type": "execute_result"
    }
   ],
   "source": [
    "#This function returns all the keys \n",
    "india.keys()"
   ]
  },
  {
   "cell_type": "code",
   "execution_count": 39,
   "id": "d00584b3",
   "metadata": {},
   "outputs": [
    {
     "data": {
      "text/plain": [
       "dict_values(['AAP', 'BJP', 'Congress'])"
      ]
     },
     "execution_count": 39,
     "metadata": {},
     "output_type": "execute_result"
    }
   ],
   "source": [
    "#This function returns all the values\n",
    "india.values()\n"
   ]
  },
  {
   "cell_type": "code",
   "execution_count": 47,
   "id": "29de2a62",
   "metadata": {},
   "outputs": [
    {
     "name": "stdout",
     "output_type": "stream",
     "text": [
      "BJP is ruling in 2 states\n"
     ]
    }
   ],
   "source": [
    "c=0\n",
    "for i in india.values():\n",
    "    if i==\"BJP\":\n",
    "        c+=1\n",
    "print(\"BJP is ruling in\",c,\"states\")\n"
   ]
  },
  {
   "cell_type": "code",
   "execution_count": 48,
   "id": "99691703",
   "metadata": {},
   "outputs": [
    {
     "name": "stdout",
     "output_type": "stream",
     "text": [
      "The total entered states are 4\n"
     ]
    }
   ],
   "source": [
    "c=0\n",
    "for i in india.keys():\n",
    "    c+=1\n",
    "print(\"The total entered states are\",c)"
   ]
  },
  {
   "cell_type": "code",
   "execution_count": 49,
   "id": "eacc8e44",
   "metadata": {},
   "outputs": [
    {
     "data": {
      "text/plain": [
       "{'Delhi': 'AAP',\n",
       " 'Maharashtra': 'BJP',\n",
       " 'Rajasthan': 'Congress',\n",
       " 'Madhya Pradesh': 'BJP'}"
      ]
     },
     "execution_count": 49,
     "metadata": {},
     "output_type": "execute_result"
    }
   ],
   "source": [
    "india"
   ]
  },
  {
   "cell_type": "markdown",
   "id": "4c5c64cb",
   "metadata": {},
   "source": [
    "# MEMBERSHIP OPERATORS"
   ]
  },
  {
   "cell_type": "code",
   "execution_count": 50,
   "id": "43ffb0b4",
   "metadata": {},
   "outputs": [
    {
     "ename": "SyntaxError",
     "evalue": "invalid syntax (190494062.py, line 1)",
     "output_type": "error",
     "traceback": [
      "\u001b[1;36m  Input \u001b[1;32mIn [50]\u001b[1;36m\u001b[0m\n\u001b[1;33m    In and not in are membership operators\u001b[0m\n\u001b[1;37m               ^\u001b[0m\n\u001b[1;31mSyntaxError\u001b[0m\u001b[1;31m:\u001b[0m invalid syntax\n"
     ]
    }
   ],
   "source": [
    "In and not in are membership operators \n",
    "They return boolean data type values \n",
    "If the value is present they return true else they return false"
   ]
  },
  {
   "cell_type": "code",
   "execution_count": 57,
   "id": "441b3416",
   "metadata": {},
   "outputs": [
    {
     "data": {
      "text/plain": [
       "True"
      ]
     },
     "execution_count": 57,
     "metadata": {},
     "output_type": "execute_result"
    }
   ],
   "source": [
    "#example:\n",
    "\"Rajasthan\" in india.keys()"
   ]
  },
  {
   "cell_type": "code",
   "execution_count": 58,
   "id": "15b05553",
   "metadata": {},
   "outputs": [
    {
     "data": {
      "text/plain": [
       "True"
      ]
     },
     "execution_count": 58,
     "metadata": {},
     "output_type": "execute_result"
    }
   ],
   "source": [
    "\"AAP\" in india.values()"
   ]
  },
  {
   "cell_type": "code",
   "execution_count": 60,
   "id": "3fcfb263",
   "metadata": {},
   "outputs": [],
   "source": [
    "india[\"Bihar\"]=\"RJD\""
   ]
  },
  {
   "cell_type": "code",
   "execution_count": 61,
   "id": "7bde9e6a",
   "metadata": {},
   "outputs": [
    {
     "data": {
      "text/plain": [
       "{'Delhi': 'AAP',\n",
       " 'Maharashtra': 'BJP',\n",
       " 'Rajasthan': 'Congress',\n",
       " 'Madhya Pradesh': 'BJP',\n",
       " 'Bihar': 'RJD'}"
      ]
     },
     "execution_count": 61,
     "metadata": {},
     "output_type": "execute_result"
    }
   ],
   "source": [
    "india"
   ]
  },
  {
   "cell_type": "code",
   "execution_count": 66,
   "id": "70411dfa",
   "metadata": {},
   "outputs": [],
   "source": [
    "india1={\"Uttar Pradesh\":\"BJP\"}\n",
    "india.update(india1)\n",
    "#update function is basically the union of two dictionaries \n",
    "#if anything is common then the value of second dictionary is used"
   ]
  },
  {
   "cell_type": "code",
   "execution_count": 70,
   "id": "674e6a75",
   "metadata": {},
   "outputs": [
    {
     "data": {
      "text/plain": [
       "{'Delhi': 'AAP',\n",
       " 'Maharashtra': 'BJP',\n",
       " 'Madhya Pradesh': 'BJP',\n",
       " 'Bihar': 'RJD',\n",
       " 'Uttar Prades': 'BJP',\n",
       " 'Uttar Pradesh': 'BJP'}"
      ]
     },
     "execution_count": 70,
     "metadata": {},
     "output_type": "execute_result"
    }
   ],
   "source": [
    "india"
   ]
  },
  {
   "cell_type": "code",
   "execution_count": 72,
   "id": "9303ae46",
   "metadata": {},
   "outputs": [
    {
     "data": {
      "text/plain": [
       "'RJD'"
      ]
     },
     "execution_count": 72,
     "metadata": {},
     "output_type": "execute_result"
    }
   ],
   "source": [
    "india.pop(\"Bihar\")\n",
    "#Key is given as argument and it removes the key and the value both"
   ]
  },
  {
   "cell_type": "code",
   "execution_count": 73,
   "id": "77e86ae0",
   "metadata": {},
   "outputs": [
    {
     "data": {
      "text/plain": [
       "{'Delhi': 'AAP',\n",
       " 'Maharashtra': 'BJP',\n",
       " 'Madhya Pradesh': 'BJP',\n",
       " 'Uttar Prades': 'BJP',\n",
       " 'Uttar Pradesh': 'BJP'}"
      ]
     },
     "execution_count": 73,
     "metadata": {},
     "output_type": "execute_result"
    }
   ],
   "source": [
    "india"
   ]
  },
  {
   "cell_type": "code",
   "execution_count": 74,
   "id": "1c62983d",
   "metadata": {},
   "outputs": [],
   "source": [
    "#another way to delete from dictionary is \n",
    "del india[\"Uttar Pradesh\"]"
   ]
  },
  {
   "cell_type": "code",
   "execution_count": 75,
   "id": "a4f0dcec",
   "metadata": {},
   "outputs": [
    {
     "data": {
      "text/plain": [
       "{'Delhi': 'AAP',\n",
       " 'Maharashtra': 'BJP',\n",
       " 'Madhya Pradesh': 'BJP',\n",
       " 'Uttar Prades': 'BJP'}"
      ]
     },
     "execution_count": 75,
     "metadata": {},
     "output_type": "execute_result"
    }
   ],
   "source": [
    "india"
   ]
  },
  {
   "cell_type": "code",
   "execution_count": 78,
   "id": "a7b30a1f",
   "metadata": {},
   "outputs": [],
   "source": [
    "india.clear()\n",
    "#it clears the dictionary"
   ]
  },
  {
   "cell_type": "code",
   "execution_count": 77,
   "id": "c5e3c1fc",
   "metadata": {},
   "outputs": [
    {
     "data": {
      "text/plain": [
       "{}"
      ]
     },
     "execution_count": 77,
     "metadata": {},
     "output_type": "execute_result"
    }
   ],
   "source": [
    "india"
   ]
  },
  {
   "cell_type": "code",
   "execution_count": 83,
   "id": "b2696403",
   "metadata": {},
   "outputs": [],
   "source": [
    "#del india\n",
    "#it deletes the dictionary"
   ]
  },
  {
   "cell_type": "code",
   "execution_count": 85,
   "id": "d60d67a3",
   "metadata": {},
   "outputs": [
    {
     "data": {
      "text/plain": [
       "False"
      ]
     },
     "execution_count": 85,
     "metadata": {},
     "output_type": "execute_result"
    }
   ],
   "source": [
    "d1 = {\"john\":40, \"peter\":45}\n",
    "d2 = {\"john\":466, \"peter\":45}\n",
    "d1 == d2"
   ]
  },
  {
   "cell_type": "code",
   "execution_count": 86,
   "id": "cabe1bdf",
   "metadata": {},
   "outputs": [
    {
     "data": {
      "text/plain": [
       "True"
      ]
     },
     "execution_count": 86,
     "metadata": {},
     "output_type": "execute_result"
    }
   ],
   "source": [
    "d1 = {\"john\":40, \"peter\":45}\n",
    "d2 = {\"john\":40, \"peter\":45}\n",
    "d1 == d2"
   ]
  },
  {
   "cell_type": "code",
   "execution_count": null,
   "id": "893783e6",
   "metadata": {},
   "outputs": [],
   "source": []
  }
 ],
 "metadata": {
  "kernelspec": {
   "display_name": "Python 3 (ipykernel)",
   "language": "python",
   "name": "python3"
  },
  "language_info": {
   "codemirror_mode": {
    "name": "ipython",
    "version": 3
   },
   "file_extension": ".py",
   "mimetype": "text/x-python",
   "name": "python",
   "nbconvert_exporter": "python",
   "pygments_lexer": "ipython3",
   "version": "3.9.12"
  }
 },
 "nbformat": 4,
 "nbformat_minor": 5
}
