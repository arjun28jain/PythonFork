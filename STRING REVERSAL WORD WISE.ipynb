{
 "cells": [
  {
   "cell_type": "markdown",
   "id": "83ac7c41",
   "metadata": {},
   "source": [
    "# PROBLEM"
   ]
  },
  {
   "cell_type": "code",
   "execution_count": null,
   "id": "9ec53d18",
   "metadata": {},
   "outputs": [],
   "source": [
    "Reverse string Word Wise\n",
    "Send Feedback\n",
    "Reverse the given string word wise. That is, the last word in given string should come at 1st place, last second word at 2nd place and so on. Individual words should remain as it is.\n",
    "Input format :\n",
    "String in a single line\n",
    "Output format :\n",
    "Word wise reversed string in a single line\n",
    "Constraints :\n",
    "0 <= |S| <= 10^7\n",
    "where |S| represents the length of string, S.\n",
    "Sample Input 1:\n",
    "Welcome to Coding Ninjas\n",
    "Sample Output 1:\n",
    "Ninjas Coding to Welcome\n",
    "Sample Input 2:\n",
    "Always indent your code\n",
    "Sample Output 2:\n",
    "code your indent Always"
   ]
  },
  {
   "cell_type": "markdown",
   "id": "885d6660",
   "metadata": {},
   "source": [
    "# SOLUTION"
   ]
  },
  {
   "cell_type": "code",
   "execution_count": 1,
   "id": "54f9d45a",
   "metadata": {},
   "outputs": [
    {
     "name": "stdout",
     "output_type": "stream",
     "text": [
      "WELCOME TO CODING NINJAS\n",
      "NINJAS CODING TO WELCOME "
     ]
    }
   ],
   "source": [
    "s=input()\n",
    "if (len(s)>=0 and len(s)<=10**7):\n",
    "    x=s.split()\n",
    "    y=len(x)-1\n",
    "    while (y>=0):\n",
    "        print(x[y], end=\" \")\n",
    "        y=y-1\n",
    "else:\n",
    "    quit()\n"
   ]
  },
  {
   "cell_type": "code",
   "execution_count": null,
   "id": "84f056a9",
   "metadata": {},
   "outputs": [],
   "source": []
  }
 ],
 "metadata": {
  "kernelspec": {
   "display_name": "Python 3 (ipykernel)",
   "language": "python",
   "name": "python3"
  },
  "language_info": {
   "codemirror_mode": {
    "name": "ipython",
    "version": 3
   },
   "file_extension": ".py",
   "mimetype": "text/x-python",
   "name": "python",
   "nbconvert_exporter": "python",
   "pygments_lexer": "ipython3",
   "version": "3.9.12"
  }
 },
 "nbformat": 4,
 "nbformat_minor": 5
}
