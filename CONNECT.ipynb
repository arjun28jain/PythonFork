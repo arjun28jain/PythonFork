{
 "cells": [
  {
   "cell_type": "code",
   "execution_count": 4,
   "id": "38429118",
   "metadata": {},
   "outputs": [
    {
     "name": "stdout",
     "output_type": "stream",
     "text": [
      "Hello, Please enter your nameATISHAY\n",
      "Hi ATISHAY Please scan the following qr codes to connect with me!\n"
     ]
    }
   ],
   "source": [
    "import qrcode\n",
    "link=\"https://www.linkedin.com/in/atishayjain743/\"\n",
    "qr=qrcode.make(link)\n",
    "qr.save(\"ATISHAY'S LINKEDIN CODE.PNG\")\n",
    "\n",
    "\n",
    "\n",
    "\n",
    "\n",
    "\n",
    "\n",
    "\n",
    "\n",
    "\n",
    "x=input(\"Hello, Please enter your name\")\n",
    "\n",
    "print(\"Hi\",x, \"Please scan the following qr codes to connect with me!\")"
   ]
  },
  {
   "attachments": {
    "ATISHAY'S%20LINKEDIN%20CODE.PNG": {
     "image/png": "[encoded data removed]"
    }
   },
   "cell_type": "markdown",
   "id": "f81e7da1",
   "metadata": {},
   "source": [
    "![ATISHAY'S%20LINKEDIN%20CODE.PNG](attachment:ATISHAY'S%20LINKEDIN%20CODE.PNG)"
   ]
  }
 ],
 "metadata": {
  "kernelspec": {
   "display_name": "Python 3 (ipykernel)",
   "language": "python",
   "name": "python3"
  },
  "language_info": {
   "codemirror_mode": {
    "name": "ipython",
    "version": 3
   },
   "file_extension": ".py",
   "mimetype": "text/x-python",
   "name": "python",
   "nbconvert_exporter": "python",
   "pygments_lexer": "ipython3",
   "version": "3.9.12"
  }
 },
 "nbformat": 4,
 "nbformat_minor": 5
}
