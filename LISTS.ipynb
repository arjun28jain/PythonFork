{
 "cells": [
  {
   "cell_type": "code",
   "execution_count": 2,
   "id": "9286c1e5",
   "metadata": {},
   "outputs": [
    {
     "name": "stdout",
     "output_type": "stream",
     "text": [
      "Enter the number of elements in list5\n",
      "\n",
      "\n",
      "Enter list elements\n",
      "78\n",
      "45\n",
      "12\n",
      "36\n",
      "48\n",
      "The list elements are\n",
      "78 45 12 36 48 "
     ]
    }
   ],
   "source": [
    "n=int(input(\"Enter the number of elements in list\"))\n",
    "L=[]\n",
    "print(\"\\n\")\n",
    "print(\"Enter list elements\")\n",
    "for i in range(n):\n",
    "    x=input()\n",
    "    L.append(x)\n",
    "    \n",
    "    \n",
    "    \n",
    "print(\"The list elements are\")\n",
    "for i in L:\n",
    "    print(i, end=\" \")\n",
    "    "
   ]
  },
  {
   "cell_type": "code",
   "execution_count": 16,
   "id": "f5cc9805",
   "metadata": {},
   "outputs": [
    {
     "data": {
      "text/plain": [
       "36"
      ]
     },
     "execution_count": 16,
     "metadata": {},
     "output_type": "execute_result"
    }
   ],
   "source": [
    "#CHECKING THE VALUE OF 2ND INDEX\n",
    "#INDEXING STARTS FROM 0\n",
    "L[2]\n"
   ]
  },
  {
   "cell_type": "code",
   "execution_count": 4,
   "id": "744b20fb",
   "metadata": {},
   "outputs": [],
   "source": [
    "#CHANGING THE LIST ELEMENT BECAUSE LISTS ARE MUTABLE\n",
    "L[2]=36\n"
   ]
  },
  {
   "cell_type": "code",
   "execution_count": 5,
   "id": "29d6a9ce",
   "metadata": {},
   "outputs": [
    {
     "data": {
      "text/plain": [
       "36"
      ]
     },
     "execution_count": 5,
     "metadata": {},
     "output_type": "execute_result"
    }
   ],
   "source": [
    "\n",
    "L[2]"
   ]
  },
  {
   "cell_type": "code",
   "execution_count": 7,
   "id": "8176b3bf",
   "metadata": {},
   "outputs": [
    {
     "name": "stdout",
     "output_type": "stream",
     "text": [
      "78\n",
      "45\n",
      "36\n",
      "36\n",
      "48\n"
     ]
    }
   ],
   "source": [
    "for i in L:\n",
    "    print(i)"
   ]
  },
  {
   "cell_type": "code",
   "execution_count": 8,
   "id": "4ad62c66",
   "metadata": {},
   "outputs": [
    {
     "data": {
      "text/plain": [
       "['48', '36', 36, '45', '78']"
      ]
     },
     "execution_count": 8,
     "metadata": {},
     "output_type": "execute_result"
    }
   ],
   "source": [
    "#SHORTCUT TO RREVERSE THE LIST\n",
    "L[::-1]"
   ]
  },
  {
   "cell_type": "code",
   "execution_count": 15,
   "id": "9baae3d8",
   "metadata": {},
   "outputs": [
    {
     "data": {
      "text/plain": [
       "['45', 36, '36', '48']"
      ]
     },
     "execution_count": 15,
     "metadata": {},
     "output_type": "execute_result"
    }
   ],
   "source": [
    "#LIST SLICING \n",
    "L[1:5]"
   ]
  },
  {
   "cell_type": "code",
   "execution_count": 21,
   "id": "49155c68",
   "metadata": {},
   "outputs": [
    {
     "data": {
      "text/plain": [
       "['78', '45', 36, '36', '48', 5, 67, 65, 23]"
      ]
     },
     "execution_count": 21,
     "metadata": {},
     "output_type": "execute_result"
    }
   ],
   "source": [
    "L"
   ]
  },
  {
   "cell_type": "code",
   "execution_count": 22,
   "id": "5213d661",
   "metadata": {},
   "outputs": [
    {
     "data": {
      "text/plain": [
       "23"
      ]
     },
     "execution_count": 22,
     "metadata": {},
     "output_type": "execute_result"
    }
   ],
   "source": [
    "#Deleting the Last element\n",
    "L.pop()"
   ]
  },
  {
   "cell_type": "code",
   "execution_count": 23,
   "id": "d8b1ba85",
   "metadata": {},
   "outputs": [
    {
     "data": {
      "text/plain": [
       "['78', '45', 36, '36', '48', 5, 67, 65]"
      ]
     },
     "execution_count": 23,
     "metadata": {},
     "output_type": "execute_result"
    }
   ],
   "source": [
    "L"
   ]
  },
  {
   "cell_type": "code",
   "execution_count": null,
   "id": "3035c031",
   "metadata": {},
   "outputs": [],
   "source": []
  }
 ],
 "metadata": {
  "kernelspec": {
   "display_name": "Python 3 (ipykernel)",
   "language": "python",
   "name": "python3"
  },
  "language_info": {
   "codemirror_mode": {
    "name": "ipython",
    "version": 3
   },
   "file_extension": ".py",
   "mimetype": "text/x-python",
   "name": "python",
   "nbconvert_exporter": "python",
   "pygments_lexer": "ipython3",
   "version": "3.9.12"
  }
 },
 "nbformat": 4,
 "nbformat_minor": 5
}
