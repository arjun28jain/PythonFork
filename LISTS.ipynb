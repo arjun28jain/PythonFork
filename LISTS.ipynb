{
 "cells": [
  {
   "cell_type": "code",
   "execution_count": 3,
   "id": "9286c1e5",
   "metadata": {},
   "outputs": [
    {
     "name": "stdout",
     "output_type": "stream",
     "text": [
      "\n",
      "\n",
      "Enter list elements\n"
     ]
    }
   ],
   "source": [
    "n=int(input(\"Enter the number of elements in list\"))\n",
    "L=[]\n",
    "print(\"\\n\")\n",
    "print(\"Enter list elements\")\n",
    "for i in range(n):\n",
    "    x=input()\n",
    "    L.append(x)\n",
    "    \n",
    "    \n",
    "    \n",
    "print(\"The list elements are\")\n",
    "for i in L:\n",
    "    print(i, end=\" \")\n",
    "    "
   ]
  },
  {
   "cell_type": "code",
   "execution_count": null,
   "id": "f5cc9805",
   "metadata": {},
   "outputs": [
    {
     "data": {
      "text/plain": [
       "36"
      ]
     },
     "execution_count": 16,
     "metadata": {},
     "output_type": "execute_result"
    }
   ],
   "source": [
    "#CHECKING THE VALUE OF 2ND INDEX\n",
    "#INDEXING STARTS FROM 0\n",
    "L[2]\n"
   ]
  },
  {
   "cell_type": "code",
   "execution_count": null,
   "id": "744b20fb",
   "metadata": {},
   "outputs": [],
   "source": [
    "#CHANGING THE LIST ELEMENT BECAUSE LISTS ARE MUTABLE\n",
    "L[2]=36\n"
   ]
  },
  {
   "cell_type": "code",
   "execution_count": null,
   "id": "29d6a9ce",
   "metadata": {},
   "outputs": [
    {
     "data": {
      "text/plain": [
       "36"
      ]
     },
     "execution_count": 5,
     "metadata": {},
     "output_type": "execute_result"
    }
   ],
   "source": [
    "\n",
    "L[2]"
   ]
  },
  {
   "cell_type": "code",
   "execution_count": null,
   "id": "8176b3bf",
   "metadata": {},
   "outputs": [
    {
     "name": "stdout",
     "output_type": "stream",
     "text": [
      "78\n",
      "45\n",
      "36\n",
      "36\n",
      "48\n"
     ]
    }
   ],
   "source": [
    "for i in L:\n",
    "    print(i)"
   ]
  },
  {
   "cell_type": "code",
   "execution_count": null,
   "id": "4ad62c66",
   "metadata": {},
   "outputs": [
    {
     "data": {
      "text/plain": [
       "['48', '36', 36, '45', '78']"
      ]
     },
     "execution_count": 8,
     "metadata": {},
     "output_type": "execute_result"
    }
   ],
   "source": [
    "#SHORTCUT TO RREVERSE THE LIST\n",
    "L[::-1]"
   ]
  },
  {
   "cell_type": "code",
   "execution_count": null,
   "id": "9baae3d8",
   "metadata": {},
   "outputs": [
    {
     "data": {
      "text/plain": [
       "['45', 36, '36', '48']"
      ]
     },
     "execution_count": 15,
     "metadata": {},
     "output_type": "execute_result"
    }
   ],
   "source": [
    "#LIST SLICING \n",
    "L[1:5]"
   ]
  },
  {
   "cell_type": "code",
   "execution_count": null,
   "id": "49155c68",
   "metadata": {},
   "outputs": [
    {
     "data": {
      "text/plain": [
       "['78', '45', 36, '36', '48', 5, 67, 65, 23]"
      ]
     },
     "execution_count": 21,
     "metadata": {},
     "output_type": "execute_result"
    }
   ],
   "source": [
    "L"
   ]
  },
  {
   "cell_type": "code",
   "execution_count": null,
   "id": "5213d661",
   "metadata": {},
   "outputs": [
    {
     "data": {
      "text/plain": [
       "23"
      ]
     },
     "execution_count": 22,
     "metadata": {},
     "output_type": "execute_result"
    }
   ],
   "source": [
    "#Deleting the Last element\n",
    "L.pop()"
   ]
  },
  {
   "cell_type": "code",
   "execution_count": null,
   "id": "d8b1ba85",
   "metadata": {},
   "outputs": [
    {
     "data": {
      "text/plain": [
       "['78', '45', 36, '36', '48', 5, 67, 65]"
      ]
     },
     "execution_count": 23,
     "metadata": {},
     "output_type": "execute_result"
    }
   ],
   "source": [
    "L"
   ]
  },
  {
   "cell_type": "code",
   "execution_count": null,
   "id": "3035c031",
   "metadata": {},
   "outputs": [],
   "source": [
    "#To find the number of elements in the list\n",
    "length=len(L)\n"
   ]
  },
  {
   "cell_type": "code",
   "execution_count": null,
   "id": "f70ad313",
   "metadata": {},
   "outputs": [
    {
     "ename": "ValueError",
     "evalue": "invalid literal for int() with base 10: 'Enter'",
     "output_type": "error",
     "traceback": [
      "\u001b[0;31m---------------------------------------------------------------------------\u001b[0m",
      "\u001b[0;31mValueError\u001b[0m                                Traceback (most recent call last)",
      "Cell \u001b[0;32mIn[1], line 4\u001b[0m\n\u001b[1;32m      1\u001b[0m \u001b[39m#Programme to convert decimal number to binary with the help of list\u001b[39;00m\n\u001b[1;32m      2\u001b[0m \u001b[39m#decimal to binary\u001b[39;00m\n\u001b[0;32m----> 4\u001b[0m n\u001b[39m=\u001b[39m\u001b[39mint\u001b[39;49m(\u001b[39minput\u001b[39;49m())\n\u001b[1;32m      5\u001b[0m L\u001b[39m=\u001b[39m[]\n\u001b[1;32m      6\u001b[0m \u001b[39mif\u001b[39;00m n\u001b[39m>\u001b[39m\u001b[39m0\u001b[39m \u001b[39mand\u001b[39;00m (n\u001b[39m<\u001b[39m\u001b[39m=\u001b[39m\u001b[39m10\u001b[39m\u001b[39m*\u001b[39m\u001b[39m*\u001b[39m\u001b[39m5\u001b[39m):\n",
      "\u001b[0;31mValueError\u001b[0m: invalid literal for int() with base 10: 'Enter'"
     ]
    }
   ],
   "source": [
    "#Programme to convert decimal number to binary with the help of list\n",
    "#decimal to binary\n",
    "\n",
    "n=int(input())\n",
    "L=[]\n",
    "if n>0 and (n<=10**5):\n",
    "    while (n>=1):\n",
    "        \n",
    "        x=n%2\n",
    "        n=n//2\n",
    "        L.append(x)\n",
    "    \n",
    "    i=len(L)-1\n",
    "    while (i>=0):\n",
    "        print(L[i])\n",
    "        i=i-1\n",
    "elif (n==0):\n",
    "    print(n)\n",
    "else:\n",
    "    quit()\n"
   ]
  },
  {
   "cell_type": "code",
   "execution_count": null,
   "id": "6e6209a0",
   "metadata": {},
   "outputs": [
    {
     "ename": "NameError",
     "evalue": "name 'L' is not defined",
     "output_type": "error",
     "traceback": [
      "\u001b[0;31m---------------------------------------------------------------------------\u001b[0m",
      "\u001b[0;31mNameError\u001b[0m                                 Traceback (most recent call last)",
      "Cell \u001b[0;32mIn[2], line 1\u001b[0m\n\u001b[0;32m----> 1\u001b[0m L[\u001b[39m4\u001b[39m]\n",
      "\u001b[0;31mNameError\u001b[0m: name 'L' is not defined"
     ]
    }
   ],
   "source": [
    "L[4]"
   ]
  },
  {
   "cell_type": "code",
   "execution_count": null,
   "id": "389adb8e",
   "metadata": {},
   "outputs": [],
   "source": []
  }
 ],
 "metadata": {
  "kernelspec": {
   "display_name": "Python 3 (ipykernel)",
   "language": "python",
   "name": "python3"
  },
  "language_info": {
   "codemirror_mode": {
    "name": "ipython",
    "version": 3
   },
   "file_extension": ".py",
   "mimetype": "text/x-python",
   "name": "python",
   "nbconvert_exporter": "python",
   "pygments_lexer": "ipython3",
   "version": "3.10.4"
  }
 },
 "nbformat": 4,
 "nbformat_minor": 5
}
