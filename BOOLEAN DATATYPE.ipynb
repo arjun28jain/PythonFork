{
 "cells": [
  {
   "cell_type": "code",
   "execution_count": 1,
   "id": "8b59bec1",
   "metadata": {},
   "outputs": [],
   "source": [
    "a=True\n",
    "#True is a python keyword\n",
    "b=False\n",
    "#False is also a python keyword"
   ]
  },
  {
   "cell_type": "code",
   "execution_count": 2,
   "id": "2c6249b9",
   "metadata": {},
   "outputs": [],
   "source": [
    "c=\"Atishay\"\n",
    "#c is a string\n"
   ]
  },
  {
   "cell_type": "code",
   "execution_count": 4,
   "id": "11fd9e11",
   "metadata": {},
   "outputs": [
    {
     "data": {
      "text/plain": [
       "bool"
      ]
     },
     "execution_count": 4,
     "metadata": {},
     "output_type": "execute_result"
    }
   ],
   "source": [
    "type(a)\n",
    "#a=true which is boolean"
   ]
  },
  {
   "cell_type": "markdown",
   "id": "5cc44500",
   "metadata": {},
   "source": [
    "# Relational Operators"
   ]
  },
  {
   "cell_type": "code",
   "execution_count": 5,
   "id": "b694dd1e",
   "metadata": {},
   "outputs": [
    {
     "data": {
      "text/plain": [
       "False"
      ]
     },
     "execution_count": 5,
     "metadata": {},
     "output_type": "execute_result"
    }
   ],
   "source": [
    "a=10\n",
    "b=20\n",
    "a>b"
   ]
  },
  {
   "cell_type": "code",
   "execution_count": 6,
   "id": "230144b4",
   "metadata": {},
   "outputs": [
    {
     "data": {
      "text/plain": [
       "True"
      ]
     },
     "execution_count": 6,
     "metadata": {},
     "output_type": "execute_result"
    }
   ],
   "source": [
    "a=8\n",
    "b=10\n",
    "a<b"
   ]
  },
  {
   "cell_type": "code",
   "execution_count": 11,
   "id": "570aaceb",
   "metadata": {},
   "outputs": [],
   "source": [
    "#a==b is relational operator\n",
    "#a=b is assignment operator\n"
   ]
  },
  {
   "cell_type": "markdown",
   "id": "1f4bf160",
   "metadata": {},
   "source": [
    "# Logical Operators"
   ]
  },
  {
   "cell_type": "code",
   "execution_count": 15,
   "id": "0978eeca",
   "metadata": {},
   "outputs": [
    {
     "data": {
      "text/plain": [
       "False"
      ]
     },
     "execution_count": 15,
     "metadata": {},
     "output_type": "execute_result"
    }
   ],
   "source": [
    "a=1\n",
    "b=2\n",
    "a<2 and b>10\n",
    "#condition one is true, second is false\n",
    "#true and false is false\n",
    "\n"
   ]
  },
  {
   "cell_type": "code",
   "execution_count": 17,
   "id": "9717d5a0",
   "metadata": {},
   "outputs": [
    {
     "name": "stdout",
     "output_type": "stream",
     "text": [
      "I am inside if\n"
     ]
    }
   ],
   "source": [
    "a=True\n",
    "if a:\n",
    "    print(\"I am inside if\")\n",
    "else:\n",
    "    print(\"I am inside else\")\n",
    "#True part of the statement is executed in if"
   ]
  },
  {
   "cell_type": "code",
   "execution_count": 19,
   "id": "2c5da800",
   "metadata": {},
   "outputs": [
    {
     "name": "stdout",
     "output_type": "stream",
     "text": [
      "B\n"
     ]
    }
   ],
   "source": [
    " if (10 < 0) and (0 < -10):\n",
    "     print(\"A\")\n",
    "\n",
    " elif (10 > 0) or False:\n",
    "     print(\"B\")\n",
    "\n",
    " else:\n",
    "     print(\"C\")\n",
    "        \n",
    "#B is the output because conditions for b result in true"
   ]
  },
  {
   "cell_type": "markdown",
   "id": "214bbf48",
   "metadata": {},
   "source": [
    "# Loops"
   ]
  },
  {
   "cell_type": "code",
   "execution_count": 20,
   "id": "d4cba55f",
   "metadata": {},
   "outputs": [],
   "source": [
    "#while True is used for infinite loopd"
   ]
  },
  {
   "cell_type": "code",
   "execution_count": 21,
   "id": "02677499",
   "metadata": {},
   "outputs": [],
   "source": [
    "#while false is used when nothing is to be printed"
   ]
  },
  {
   "cell_type": "code",
   "execution_count": 24,
   "id": "a6fa1f37",
   "metadata": {},
   "outputs": [
    {
     "name": "stdout",
     "output_type": "stream",
     "text": [
      "Enter the number45\n",
      "1 2 3 4 5 6 7 8 9 10 11 12 13 14 15 16 17 18 19 20 21 22 23 24 25 26 27 28 29 30 31 32 33 34 35 36 37 38 39 40 41 42 43 44 45 "
     ]
    }
   ],
   "source": [
    "#Print first n natural numbers using while loop\n",
    "\n",
    "i=1\n",
    "n=int(input(\"Enter the number\"))\n",
    "while (i<n+1):\n",
    "    print(i, end=\" \")\n",
    "    i+=1\n",
    "# += is assignment operator, i+=1 means i=i+1"
   ]
  },
  {
   "cell_type": "markdown",
   "id": "9233d132",
   "metadata": {},
   "source": [
    "# Fast iterations"
   ]
  },
  {
   "cell_type": "code",
   "execution_count": 31,
   "id": "d415fd97",
   "metadata": {},
   "outputs": [
    {
     "name": "stdout",
     "output_type": "stream",
     "text": [
      "t\n",
      "h\n",
      "e\n",
      " \n",
      "q\n",
      "u\n",
      "i\n",
      "c\n",
      "k\n",
      " \n",
      "b\n",
      "r\n",
      "o\n",
      "w\n",
      "n\n",
      " \n",
      "f\n",
      "o\n",
      "x\n",
      " \n",
      "j\n",
      "u\n",
      "m\n",
      "p\n",
      "s\n",
      " \n",
      "o\n",
      "v\n",
      "e\n",
      "r\n",
      " \n",
      "t\n",
      "h\n",
      "e\n",
      " \n",
      "l\n",
      "a\n",
      "z\n",
      "y\n",
      " \n",
      "b\n",
      "r\n",
      "o\n",
      "w\n",
      "n\n",
      " \n",
      "d\n",
      "o\n",
      "g\n"
     ]
    }
   ],
   "source": [
    "s=\"the quick brown fox jumps over the lazy brown dog\"\n",
    "for i in s:\n",
    "    print(i)"
   ]
  },
  {
   "cell_type": "code",
   "execution_count": 32,
   "id": "8d88e7a8",
   "metadata": {},
   "outputs": [
    {
     "name": "stdout",
     "output_type": "stream",
     "text": [
      "Enter the number5\n",
      "5 4 3 2 1 "
     ]
    }
   ],
   "source": [
    "# print numbers in reverse order using for loop\n",
    "\n",
    "n=int(input(\"Enter the number\"))\n",
    "for i in range(n,0,-1):\n",
    "    print(i, end=\" \")"
   ]
  },
  {
   "cell_type": "code",
   "execution_count": 33,
   "id": "73a13ac1",
   "metadata": {},
   "outputs": [
    {
     "name": "stdout",
     "output_type": "stream",
     "text": [
      "abcd\n",
      "a\n",
      "a\n",
      "a\n"
     ]
    }
   ],
   "source": [
    "x = 'abcd'\n",
    "for i in range(len(x)):\n",
    "   print(x)\n",
    "   x = 'a'"
   ]
  },
  {
   "cell_type": "code",
   "execution_count": 34,
   "id": "0955b9d8",
   "metadata": {},
   "outputs": [
    {
     "name": "stdout",
     "output_type": "stream",
     "text": [
      "12\n",
      "5\n"
     ]
    }
   ],
   "source": [
    "n=int(input())\n",
    "if (n>=1 and n<=100):\n",
    "    for i in range(2,n//2+1):\n",
    "        if (n%i==0):\n",
    "            continue\n",
    "        else:\n",
    "            print(i)\n",
    "else:\n",
    "    quit()"
   ]
  },
  {
   "cell_type": "code",
   "execution_count": null,
   "id": "03639457",
   "metadata": {},
   "outputs": [],
   "source": []
  }
 ],
 "metadata": {
  "kernelspec": {
   "display_name": "Python 3 (ipykernel)",
   "language": "python",
   "name": "python3"
  },
  "language_info": {
   "codemirror_mode": {
    "name": "ipython",
    "version": 3
   },
   "file_extension": ".py",
   "mimetype": "text/x-python",
   "name": "python",
   "nbconvert_exporter": "python",
   "pygments_lexer": "ipython3",
   "version": "3.9.12"
  }
 },
 "nbformat": 4,
 "nbformat_minor": 5
}
